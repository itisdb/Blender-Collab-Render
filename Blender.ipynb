{
  "nbformat": 4,
  "nbformat_minor": 0,
  "metadata": {
    "colab": {
      "name": "Blender.ipynb",
      "private_outputs": true,
      "provenance": [],
      "collapsed_sections": [],
      "include_colab_link": true
    },
    "kernelspec": {
      "name": "python3",
      "display_name": "Python 3"
    },
    "accelerator": "GPU"
  },
  "cells": [
    {
      "cell_type": "markdown",
      "metadata": {
        "id": "view-in-github",
        "colab_type": "text"
      },
      "source": [
        "<a href=\"https://colab.research.google.com/github/itisdb/Blender-Collab-Render/blob/main/Blender.ipynb\" target=\"_parent\"><img src=\"https://colab.research.google.com/assets/colab-badge.svg\" alt=\"Open In Colab\"/></a>"
      ]
    },
    {
      "cell_type": "markdown",
      "metadata": {
        "id": "KpHD9psW7jxO"
      },
      "source": [
        "#"
      ]
    },
    {
      "cell_type": "code",
      "metadata": {
        "id": "98G7zhsndK8P"
      },
      "source": [
        "#' ' means CPU whereas '/device:G:0' means GPU | To check the GPU\n",
        "import tensorflow as tf\n",
        "tf.test.gpu_device_name()"
      ],
      "execution_count": null,
      "outputs": []
    },
    {
      "cell_type": "code",
      "metadata": {
        "id": "TODcvhvydkZj"
      },
      "source": [
        "# memory footprint support libraries/code\n",
        "!ln -sf /opt/bin/nvidia-smi /usr/bin/nvidia-smi\n",
        "!pip install gputil\n",
        "!pip install psutil\n",
        "!pip install humanize\n",
        "import psutil\n",
        "import humanize\n",
        "import os\n",
        "import GPUtil as GPU\n",
        "GPUs = GPU.getGPUs()\n",
        "# XXX: only one GPU on Colab and isn’t guaranteed\n",
        "gpu = GPUs[0]\n",
        "def printm():\n",
        " process = psutil.Process(os.getpid())\n",
        " print(\"Gen RAM Free: \" + humanize.naturalsize( psutil.virtual_memory().available ), \" | Proc size: \" + humanize.naturalsize( process.memory_info().rss))\n",
        " print(\"GPU RAM Free: {0:.0f}MB | Used: {1:.0f}MB | Util {2:3.0f}% | Total {3:.0f}MB\".format(gpu.memoryFree, gpu.memoryUsed, gpu.memoryUtil*100, gpu.memoryTotal))\n",
        "printm() "
      ],
      "execution_count": null,
      "outputs": []
    },
    {
      "cell_type": "code",
      "metadata": {
        "id": "ldykR0fMftHt"
      },
      "source": [
        "#Download Blender from Repository\n",
        "!wget https://download.blender.org/release/Blender2.92/blender-2.92.0-linux64.tar.xz"
      ],
      "execution_count": null,
      "outputs": []
    },
    {
      "cell_type": "code",
      "metadata": {
        "id": "rQ-CKpS5hBFo"
      },
      "source": [
        "#Install Blender \n",
        "!tar xf blender-2.92.0-linux64.tar.xz"
      ],
      "execution_count": null,
      "outputs": []
    },
    {
      "cell_type": "code",
      "metadata": {
        "id": "Cbk0J6TYwvnQ"
      },
      "source": [
        "#Download some required libraries\n",
        "!apt install libboost-all-dev\n",
        "!apt install libgl1-mesa-dev"
      ],
      "execution_count": null,
      "outputs": []
    },
    {
      "cell_type": "code",
      "metadata": {
        "id": "h_E1kl9W4iV8"
      },
      "source": [
        "#Connect Google Drive\n",
        "from google.colab import drive\n",
        "drive.mount('/gdrive')"
      ],
      "execution_count": null,
      "outputs": []
    },
    {
      "cell_type": "code",
      "metadata": {
        "id": "AYLt4dk18KPS"
      },
      "source": [
        "filename = '/gdrive/MyDrive/Blender/field.blend'"
      ],
      "execution_count": null,
      "outputs": []
    },
    {
      "cell_type": "code",
      "metadata": {
        "id": "_p77a65khTRB"
      },
      "source": [
        "#Run Blender\n",
        "!sudo ./blender-2.92.0-linux64/blender -b $filename -noaudio -P '/gdrive/MyDrive/Blender/GPU.py'  -E 'CYCLES' -F 'PNG' -f 1 \n",
        "#!sudo ./blender-2.91.0-linux64/blender -b $filename -noaudio -- --cycles-device CUDA  -E 'CYCLES' -f 1 -F 'PNG'"
      ],
      "execution_count": null,
      "outputs": []
    },
    {
      "cell_type": "code",
      "metadata": {
        "id": "_LT8bkKZH_SQ"
      },
      "source": [
        "#for BLENDER_EEVEE \n",
        "!sudo ./blender-2.92.0-linux64/blender -b $filename -f 1"
      ],
      "execution_count": null,
      "outputs": []
    },
    {
      "cell_type": "code",
      "metadata": {
        "id": "p4fAgfVHHEtc"
      },
      "source": [
        "#for animation\n",
        "!sudo ./blender-2.92.0-linux64/blender -b $filename -noaudio -P '/gdrive/MyDrive/Blender/GPU.py'  -E 'CYCLES' -s 1 -e 100 -t 2 -a\n",
        "#!sudo ./blender-2.91.0-linux64/blender -b $filename -noaudio -P '/gdrive/MyDrive/Blender/GPU.py'  -E 'CYCLES' -f 1 -F 'PNG'\n"
      ],
      "execution_count": null,
      "outputs": []
    },
    {
      "cell_type": "code",
      "metadata": {
        "id": "gpFTbCZjHtqn"
      },
      "source": [
        "#for BLENDER_EEVEE Animation\n",
        "!sudo ./blender-2.92.0-linux64/blender -b $filename -noaudio -E 'BLENDER_RENDER' -s 10 -e 500 -t 2 -a"
      ],
      "execution_count": null,
      "outputs": []
    }
  ]
}