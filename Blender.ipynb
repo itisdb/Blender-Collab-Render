{
  "nbformat": 4,
  "nbformat_minor": 0,
  "metadata": {
    "colab": {
      "name": "Blender.ipynb",
      "private_outputs": true,
      "provenance": [],
      "collapsed_sections": []
    },
    "kernelspec": {
      "name": "python3",
      "display_name": "Python 3"
    },
    "accelerator": "GPU"
  },
  "cells": [
    {
      "cell_type": "markdown",
      "metadata": {
        "id": "KpHD9psW7jxO"
      },
      "source": [
        "#"
      ]
    },
    {
      "cell_type": "code",
      "metadata": {
        "id": "ldykR0fMftHt"
      },
      "source": [
        "#Download Blender from Repository\n",
        "!wget https://download.blender.org/release/Blender2.92/blender-2.92.0-linux64.tar.xz"
      ],
      "execution_count": null,
      "outputs": []
    },
    {
      "cell_type": "code",
      "metadata": {
        "id": "rQ-CKpS5hBFo"
      },
      "source": [
        "#Install Blender \n",
        "!tar xf blender-2.92.0-linux64.tar.xz"
      ],
      "execution_count": null,
      "outputs": []
    },
    {
      "cell_type": "code",
      "metadata": {
        "id": "Cbk0J6TYwvnQ"
      },
      "source": [
        "#Download some required libraries\n",
        "!apt install libboost-all-dev\n",
        "!apt install libgl1-mesa-dev"
      ],
      "execution_count": null,
      "outputs": []
    },
    {
      "cell_type": "code",
      "metadata": {
        "id": "h_E1kl9W4iV8"
      },
      "source": [
        "#Connect Google Drive\n",
        "from google.colab import drive\n",
        "drive.mount('/gdrive')"
      ],
      "execution_count": null,
      "outputs": []
    },
    {
      "cell_type": "code",
      "metadata": {
        "id": "AYLt4dk18KPS"
      },
      "source": [
        "filename = '/gdrive/MyDrive/Blender/field.blend'"
      ],
      "execution_count": null,
      "outputs": []
    },
    {
      "cell_type": "code",
      "metadata": {
        "id": "_p77a65khTRB"
      },
      "source": [
        "#Run Blender\n",
        "!sudo ./blender-2.91.0-linux64/blender -b $filename -noaudio -P '/gdrive/MyDrive/Blender/GPU.py'  -E 'CYCLES' -F 'PNG' -f 1 \n",
        "#!sudo ./blender-2.91.0-linux64/blender -b $filename -noaudio -- --cycles-device CUDA  -E 'CYCLES' -f 1 -F 'PNG'"
      ],
      "execution_count": null,
      "outputs": []
    },
    {
      "cell_type": "code",
      "metadata": {
        "id": "_LT8bkKZH_SQ"
      },
      "source": [
        "#for BLENDER_EEVEE \r\n",
        "!sudo ./blender-2.91.0-linux64/blender -b $filename -f 1"
      ],
      "execution_count": null,
      "outputs": []
    },
    {
      "cell_type": "code",
      "metadata": {
        "id": "p4fAgfVHHEtc"
      },
      "source": [
        "#for animation\r\n",
        "!sudo ./blender-2.91.0-linux64/blender -b $filename -noaudio -P '/gdrive/MyDrive/Blender/GPU.py'  -E 'CYCLES' -s 1 -e 100 -t 2 -a\r\n",
        "#!sudo ./blender-2.91.0-linux64/blender -b $filename -noaudio -P '/gdrive/MyDrive/Blender/GPU.py'  -E 'CYCLES' -f 1 -F 'PNG'\r\n"
      ],
      "execution_count": null,
      "outputs": []
    },
    {
      "cell_type": "code",
      "metadata": {
        "id": "gpFTbCZjHtqn"
      },
      "source": [
        "#for BLENDER_EEVEE Animation\r\n",
        "!sudo ./blender-2.91.0-linux64/blender -b $filename -noaudio -E 'BLENDER_RENDER' -s 10 -e 500 -t 2 -a"
      ],
      "execution_count": null,
      "outputs": []
    }
  ]
}
